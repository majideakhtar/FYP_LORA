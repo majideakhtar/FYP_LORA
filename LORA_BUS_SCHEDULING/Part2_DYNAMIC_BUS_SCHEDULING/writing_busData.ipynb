{
 "cells": [
  {
   "cell_type": "markdown",
   "metadata": {},
   "source": [
    "# New heading"
   ]
  },
  {
   "cell_type": "code",
   "execution_count": null,
   "metadata": {},
   "outputs": [],
   "source": [
    "data = pd.read_csv('routes.csv')\n",
    "\n",
    "for i in range(len(data)):\n",
    "    route_no = str(data['route_no'][i])\n",
    "    origin = str(data['origin'][i])\n",
    "    destination = str(data['destination'][i])\n",
    "    \n",
    "    sql = \"INSERT INTO routes (route_no, origin, destination, BSN_1, BSL_1, BSN_2, BSL_2, BSN_3, BSL_3, BSN_4, BSL_4, BSN_5, BSL_5, BSN_6, BSL_6, BSN_7, BSL_7, BSN_8, BSL_8, BSN_9, BSL_9, BSN_10, BSL_10, BSN_11, BSL_11, BSN_12, BSL_12, BSN_13, BSL_13, BSN_14, BSL_14, BSN_15, BSL_15, BSN_16, BSL_16, BSN_17, BSL_17, BSN_18, BSL_18, BSN_19, BSL_19, BSN_20, BSL_20, BSN_21, BSL_21, BSN_22, BSL_22, BSN_23, BSL_23, BSN_24, BSL_24, BSN_25, BSL_25, BSN_26, BSL_26, BSN_27, BSL_27, BSN_28, BSL_28, BSN_29, BSL_29, BSN_30, BSL_30, BSN_31, BSL_31, BSN_32, BSL_32, BSN_33, BSL_33, BSN_34, BSL_34, BSN_35, BSL_35, BSN_36, BSL_36, BSN_37, BSL_37, BSN_38, BSL_38, BSN_39, BSL_39, BSN_40, BSL_40, BSN_41, BSL_41, BSN_42, BSL_42, BSN_43, BSL_43, BSN_44, BSL_44, BSN_45, BSL_45, BSN_46, BSL_46, BSN_47, BSL_47, BSN_48, BSL_48, BSN_49, BSL_49, BSN_50, BSL_50, BSN_51, BSL_51, BSN_52, BSL_52, BSN_53, BSL_53, BSN_54, BSL_54, BSN_55, BSL_55, BSN_56, BSL_56, BSN_57, BSL_57, BSN_58, BSL_58, BSN_59, BSL_59, BSN_60, BSL_60, BSN_61, BSL_61, BSN_62, BSL_62, BSN_63, BSL_63, BSN_64, BSL_64, BSN_65, BSL_65, BSN_66, BSL_66, BSN_67, BSL_67, BSN_68, BSL_68, BSN_69, BSL_69, BSN_70, BSL_70, BSN_71, BSL_71, BSN_72, BSL_72, BSN_73, BSL_73, BSN_74, BSL_74, BSN_75, BSL_75, BSN_76, BSL_76, BSN_77, BSL_77, BSN_78, BSL_78, BSN_79, BSL_79, BSN_80, BSL_80, BSN_81, BSL_81, BSN_82, BSL_82, BSN_83, BSL_83, BSN_84, BSL_84, BSN_85, BSL_85, BSN_86, BSL_86, BSN_87, BSL_87, BSN_88, BSL_88, BSN_89, BSL_89, BSN_90, BSL_90, BSN_91, BSL_91, BSN_92, BSL_92, BSN_93, BSL_93, BSN_94, BSL_94, BSN_95, BSL_95, BSN_96, BSL_96, BSN_97, BSL_97, BSN_98, BSL_98, BSN_99, BSL_99, BSN_100, BSL_100, BSN_101, BSL_101, BSN_102, BSL_102, BSN_103, BSL_103, BSN_104, BSL_104, BSN_105, BSL_105, BSN_106, BSL_106, BSN_107, BSL_107, BSN_108, BSL_108, BSN_109, BSL_109, BSN_110, BSL_110, BSN_111, BSL_111, BSN_112, BSL_112, BSN_113, BSL_113, BSN_114, BSL_114, BSN_115, BSL_115, BSN_116, BSL_116, BSN_117, BSL_117, BSN_118, BSL_118, BSN_119, BSL_119, BSN_120, BSL_120, BSN_121, BSL_121, BSN_122, BSL_122, BSN_123, BSL_123, BSN_124, BSL_124, BSN_125, BSL_125, BSN_126, BSL_126, BSN_127, BSL_127, BSN_128, BSL_128, BSN_129, BSL_129, BSN_130, BSL_130, BSN_131, BSL_131, BSN_132, BSL_132, BSN_133, BSL_133, BSN_134, BSL_134, BSN_135, BSL_135, BSN_136, BSL_136, BSN_137, BSL_137, BSN_138, BSL_138, BSN_139, BSL_139, BSN_140, BSL_140, BSN_141, BSL_141, BSN_142, BSL_142, BSN_143, BSL_143, BSN_144, BSL_144, BSN_145, BSL_145, BSN_146, BSL_146, BSN_147, BSL_147, BSN_148, BSL_148, BSN_149, BSL_149, BSN_150, BSL_150, BSN_151, BSL_151, BSN_152, BSL_152, BSN_153, BSL_153, BSN_154, BSL_154,BSN_155, BSL_155, BSN_156, BSL_156, BSN_157, BSL_157,BSN_158, BSL_158) VALUES  (%s, %s, %s, NULL, NULL, NULL, NULL, NULL, NULL, NULL, NULL, NULL, NULL, NULL, NULL, NULL, NULL, NULL, NULL, NULL, NULL, NULL, NULL, NULL, NULL, NULL, NULL, NULL, NULL, NULL, NULL, NULL, NULL, NULL, NULL, NULL, NULL, NULL, NULL, NULL, NULL, NULL, NULL, NULL, NULL, NULL, NULL, NULL, NULL, NULL, NULL, NULL, NULL, NULL, NULL, NULL, NULL, NULL, NULL, NULL, NULL, NULL, NULL, NULL, NULL, NULL, NULL, NULL, NULL, NULL, NULL, NULL, NULL, NULL, NULL, NULL, NULL, NULL, NULL, NULL, NULL, NULL, NULL, NULL, NULL, NULL, NULL, NULL, NULL, NULL, NULL, NULL, NULL, NULL, NULL, NULL, NULL, NULL, NULL, NULL, NULL, NULL, NULL, NULL, NULL, NULL, NULL, NULL, NULL, NULL, NULL, NULL, NULL, NULL, NULL, NULL, NULL, NULL, NULL, NULL, NULL, NULL, NULL, NULL, NULL, NULL, NULL, NULL, NULL, NULL, NULL, NULL, NULL, NULL, NULL, NULL, NULL, NULL, NULL, NULL, NULL, NULL, NULL, NULL, NULL, NULL, NULL, NULL, NULL, NULL, NULL, NULL, NULL, NULL, NULL, NULL, NULL, NULL, NULL, NULL, NULL, NULL, NULL, NULL, NULL, NULL, NULL, NULL, NULL, NULL, NULL, NULL, NULL, NULL, NULL, NULL, NULL, NULL, NULL, NULL, NULL, NULL, NULL, NULL, NULL, NULL, NULL, NULL, NULL, NULL, NULL, NULL, NULL, NULL, NULL, NULL, NULL, NULL, NULL, NULL, NULL, NULL, NULL, NULL, NULL, NULL, NULL, NULL, NULL, NULL, NULL, NULL, NULL, NULL, NULL, NULL, NULL, NULL, NULL, NULL, NULL, NULL, NULL, NULL, NULL, NULL, NULL, NULL, NULL, NULL, NULL, NULL, NULL, NULL, NULL, NULL, NULL, NULL, NULL, NULL, NULL, NULL, NULL, NULL, NULL, NULL, NULL, NULL, NULL, NULL, NULL, NULL, NULL, NULL, NULL, NULL, NULL, NULL, NULL, NULL, NULL, NULL, NULL, NULL, NULL, NULL, NULL, NULL, NULL, NULL, NULL, NULL, NULL, NULL, NULL, NULL, NULL, NULL, NULL, NULL, NULL, NULL, NULL, NULL, NULL, NULL, NULL, NULL, NULL, NULL, NULL, NULL, NULL, NULL, NULL, NULL, NULL, NULL, NULL, NULL, NULL, NULL, NULL, NULL, NULL, NULL, NULL, NULL, NULL, NULL, NULL, NULL, NULL, NULL, NULL, NULL, NULL, NULL, NULL);\"\n",
    "    val = (route_no, origin, destination)\n",
    "    cur.execute(sql, val)\n",
    "    conn.commit()\n",
    "    \n",
    "    #Converting to recognised JSON\n",
    "    j = data['map_json_content'][i]\n",
    "    js = json.dumps(j)\n",
    "    jss= json.loads(js)\n",
    "    str1 = str(\"{\\\"\"+\"bus\"+\"\\\" : \"+str(jss)+\"}\")\n",
    "    d1=json.loads(str1)\n",
    "    \n",
    "    k = 1\n",
    "    for bus in d1['bus']:\n",
    "        busstop = str(bus['busstop'])\n",
    "        latlons = str(bus['latlons'])\n",
    "\n",
    "        sql = str(\"UPDATE routes SET BSN_\"+str(k)+\" = %s , BSL_\"+str(k)+\" = %s  WHERE route_no = %s\")\n",
    "        val = (busstop, latlons, route_no)\n",
    "        cur.execute(sql, val)\n",
    "        conn.commit()\n",
    "        \n",
    "        k=k+1"
   ]
  }
 ],
 "metadata": {
  "kernelspec": {
   "display_name": "Python 3",
   "language": "python",
   "name": "python3"
  },
  "language_info": {
   "codemirror_mode": {
    "name": "ipython",
    "version": 3
   },
   "file_extension": ".py",
   "mimetype": "text/x-python",
   "name": "python",
   "nbconvert_exporter": "python",
   "pygments_lexer": "ipython3",
   "version": "3.7.1"
  }
 },
 "nbformat": 4,
 "nbformat_minor": 2
}
